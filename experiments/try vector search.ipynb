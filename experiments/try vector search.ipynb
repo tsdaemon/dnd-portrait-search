{
 "cells": [
  {
   "cell_type": "code",
   "execution_count": 9,
   "id": "f9193800-0197-44ef-851e-79620a74caa3",
   "metadata": {},
   "outputs": [
    {
     "name": "stdout",
     "output_type": "stream",
     "text": [
      "The dotenv extension is already loaded. To reload it, use:\n",
      "  %reload_ext dotenv\n"
     ]
    }
   ],
   "source": [
    "%load_ext dotenv"
   ]
  },
  {
   "cell_type": "code",
   "execution_count": 10,
   "id": "f89d3395-01ea-45ef-af77-4541a792a028",
   "metadata": {},
   "outputs": [],
   "source": [
    "%dotenv"
   ]
  },
  {
   "cell_type": "code",
   "execution_count": 21,
   "id": "8e76d9c2-2b6e-47c4-946f-728619a1ea95",
   "metadata": {},
   "outputs": [],
   "source": [
    "from openai import OpenAI\n",
    "client = OpenAI()\n",
    "\n",
    "def get_embedding(text):\n",
    "    embedding = client.embeddings.create(\n",
    "      model=\"text-embedding-ada-002\",\n",
    "      input=text,\n",
    "      encoding_format=\"float\"\n",
    "    )\n",
    "    return embedding.data[0].embedding"
   ]
  },
  {
   "cell_type": "code",
   "execution_count": 29,
   "id": "22a85fd1-5a25-4d0c-842b-2461ba514931",
   "metadata": {},
   "outputs": [],
   "source": [
    "embedding = get_embedding(\"Павло Тичина\")"
   ]
  },
  {
   "cell_type": "code",
   "execution_count": 31,
   "id": "cc9b4eb7-64a1-4b48-a700-7b1278783d31",
   "metadata": {},
   "outputs": [
    {
     "name": "stdout",
     "output_type": "stream",
     "text": [
      "[{'text': 'О панно Інно, панно Інно'}, {'text': 'Садок вишневий коло хати'}]\n"
     ]
    }
   ],
   "source": [
    "import pymongo\n",
    "import os\n",
    "from pprint import pprint\n",
    "\n",
    "mongo_uri = os.environ[\"MONGODB_URI\"]\n",
    "\n",
    "connection = pymongo.MongoClient(mongo_uri)\n",
    "database = 'prt-search'\n",
    "collection = 'test-embeddings'\n",
    "\n",
    "def vector_search(embedding):\n",
    "    pipeline = [\n",
    "        {\n",
    "            \"$vectorSearch\": {\n",
    "                \"queryVector\": embedding,\n",
    "                \"path\": \"text_embedding\",\n",
    "                \"numCandidates\": 5,\n",
    "                \"limit\": 2,\n",
    "                \"index\": \"text_embeddings\",\n",
    "            }\n",
    "        },\n",
    "        {\n",
    "            \"$project\":{\n",
    "                \"text_embedding\":0,\n",
    "                \"_id\":0,\n",
    "                'score': {\n",
    "                    '$meta': 'searchScore'\n",
    "                }\n",
    "            }\n",
    "        }\n",
    "    ]\n",
    "    \n",
    "    return list(connection[database][collection].aggregate(pipeline))\n",
    "\n",
    "pprint(vector_search(embedding))"
   ]
  },
  {
   "cell_type": "code",
   "execution_count": 32,
   "id": "341e071d-d2c9-4612-99cc-af1c762a25d3",
   "metadata": {},
   "outputs": [
    {
     "name": "stdout",
     "output_type": "stream",
     "text": [
      "[{'text': 'О панно Інно, панно Інно'}, {'text': 'Садок вишневий коло хати'}]\n"
     ]
    }
   ],
   "source": [
    "embedding = get_embedding(\"Тарас Шевченко\")\n",
    "pprint(vector_search(embedding))"
   ]
  },
  {
   "cell_type": "code",
   "execution_count": 33,
   "id": "8c1d8fb2-014f-41e2-8365-dbbfa02c3331",
   "metadata": {},
   "outputs": [
    {
     "name": "stdout",
     "output_type": "stream",
     "text": [
      "[{'text': 'Садок вишневий коло хати'}, {'text': 'О панно Інно, панно Інно'}]\n"
     ]
    }
   ],
   "source": [
    "embedding = get_embedding(\"Хрущі над вишнями\")\n",
    "pprint(vector_search(embedding))"
   ]
  },
  {
   "cell_type": "code",
   "execution_count": 34,
   "id": "1765adca-ece8-4e31-aa38-cd8cbf5c7dbd",
   "metadata": {},
   "outputs": [
    {
     "name": "stdout",
     "output_type": "stream",
     "text": [
      "[{'text': 'О панно Інно, панно Інно'}, {'text': 'Садок вишневий коло хати'}]\n"
     ]
    }
   ],
   "source": [
    "embedding = get_embedding(\"Павло Тичина\")\n",
    "pprint(vector_search(embedding))"
   ]
  },
  {
   "cell_type": "code",
   "execution_count": 35,
   "id": "121e66fb-ec9f-4030-8f2a-630ff40a08a0",
   "metadata": {},
   "outputs": [
    {
     "name": "stdout",
     "output_type": "stream",
     "text": [
      "[{'text': 'What a wonderful life'}, {'text': 'Садок вишневий коло хати'}]\n"
     ]
    }
   ],
   "source": [
    "embedding = get_embedding(\"Armstrong\")\n",
    "pprint(vector_search(embedding))"
   ]
  },
  {
   "cell_type": "code",
   "execution_count": null,
   "id": "7c1f3988-aabe-4dcd-b6e3-cf4b879a0660",
   "metadata": {},
   "outputs": [],
   "source": []
  }
 ],
 "metadata": {
  "kernelspec": {
   "display_name": "Python 3 (ipykernel)",
   "language": "python",
   "name": "python3"
  },
  "language_info": {
   "codemirror_mode": {
    "name": "ipython",
    "version": 3
   },
   "file_extension": ".py",
   "mimetype": "text/x-python",
   "name": "python",
   "nbconvert_exporter": "python",
   "pygments_lexer": "ipython3",
   "version": "3.11.7"
  }
 },
 "nbformat": 4,
 "nbformat_minor": 5
}
