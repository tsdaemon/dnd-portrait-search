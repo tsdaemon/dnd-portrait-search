{
 "cells": [
  {
   "cell_type": "code",
   "execution_count": 5,
   "id": "a2747da2-d75f-459c-bafa-d38a93a390e1",
   "metadata": {
    "scrolled": true
   },
   "outputs": [
    {
     "name": "stdout",
     "output_type": "stream",
     "text": [
      "The character depicted in the image appears to be a female elf, given the pointed ears and slender build. She possesses a demeanor that suggests a neutral alignment, focused more on balance or personal goals than strict adherence to good or evil, lawful or chaotic behaviors. The most fitting classes for her would likely be those associated with magic and nature, such as a druid or a ranger, with possible subclasses like Circle of the Moon (for a druid) or Beast Master (for a ranger). She holds a magical staff, which is entwined with living wood and leaves, indicating a connection to nature, and possibly serving as a focus for her spellcasting. The character wears simple, perhaps leather-based armor, which offers protection while still allowing ease of movement through natural terrains. A notable special trait is the ethereal green flame emanating from her extended hand, hinting at her ability to harness elemental magic or cast spells.\n",
      "\n",
      "{\n",
      "    \"race\": \"elf\",\n",
      "    \"gender\": \"female\",\n",
      "    \"alignment\": \"neutral\",\n",
      "    \"classes\": [\"druid\", \"ranger\"],\n",
      "    \"subclasses\": [\"Circle of the Moon\", \"Beast Master\"],\n",
      "    \"weapon\": \"magical staff\",\n",
      "    \"armor\": \"leather\",\n",
      "    \"special_traits\": [\"elemental magic\", \"spellcasting\"]\n",
      "}\n"
     ]
    }
   ],
   "source": [
    "TEXT_EXAMPLE=\"\"\"The character depicted in the image appears to be a female elf, given the pointed ears and slender build. She possesses a demeanor that suggests a neutral alignment, focused more on balance or personal goals than strict adherence to good or evil, lawful or chaotic behaviors. The most fitting classes for her would likely be those associated with magic and nature, such as a druid or a ranger, with possible subclasses like Circle of the Moon (for a druid) or Beast Master (for a ranger). She holds a magical staff, which is entwined with living wood and leaves, indicating a connection to nature, and possibly serving as a focus for her spellcasting. The character wears simple, perhaps leather-based armor, which offers protection while still allowing ease of movement through natural terrains. A notable special trait is the ethereal green flame emanating from her extended hand, hinting at her ability to harness elemental magic or cast spells.\n",
    "\n",
    "{\n",
    "    \"race\": \"elf\",\n",
    "    \"gender\": \"female\",\n",
    "    \"alignment\": \"neutral\",\n",
    "    \"classes\": [\"druid\", \"ranger\"],\n",
    "    \"subclasses\": [\"Circle of the Moon\", \"Beast Master\"],\n",
    "    \"weapon\": \"magical staff\",\n",
    "    \"armor\": \"leather\",\n",
    "    \"special_traits\": [\"elemental magic\", \"spellcasting\"]\n",
    "}\"\"\"\n",
    "\n",
    "print(TEXT_EXAMPLE)"
   ]
  },
  {
   "cell_type": "code",
   "execution_count": 13,
   "id": "87b4dcb1-75a7-4f8b-b065-00c229397c1e",
   "metadata": {},
   "outputs": [
    {
     "name": "stdout",
     "output_type": "stream",
     "text": [
      "The character depicted in the image appears to be a female elf, given the pointed ears and slender build. She possesses\n",
      "given the pointed ears and slender build. She possesses a demeanor that suggests a neutral alignment, focused more on\n",
      "demeanor that suggests a neutral alignment, focused more on balance or personal goals than strict adherence to good or\n",
      "balance or personal goals than strict adherence to good or evil, lawful or chaotic behaviors. The most fitting classes\n",
      "evil, lawful or chaotic behaviors. The most fitting classes for her would likely be those associated with magic and\n",
      "for her would likely be those associated with magic and nature, such as a druid or a ranger, with possible subclasses\n",
      "such as a druid or a ranger, with possible subclasses like Circle of the Moon (for a druid) or Beast Master (for a\n",
      "Circle of the Moon (for a druid) or Beast Master (for a ranger). She holds a magical staff, which is entwined with\n",
      "ranger). She holds a magical staff, which is entwined with living wood and leaves, indicating a connection to nature,\n",
      "living wood and leaves, indicating a connection to nature, and possibly serving as a focus for her spellcasting. The\n",
      "and possibly serving as a focus for her spellcasting. The character wears simple, perhaps leather-based armor, which\n",
      "character wears simple, perhaps leather-based armor, which offers protection while still allowing ease of movement\n",
      "offers protection while still allowing ease of movement through natural terrains. A notable special trait is the\n",
      "through natural terrains. A notable special trait is the ethereal green flame emanating from her extended hand, hinting\n",
      "green flame emanating from her extended hand, hinting at her ability to harness elemental magic or cast spells.\n",
      "{\n",
      "    \"race\": \"elf\",\n",
      "    \"gender\": \"female\",\n",
      "    \"alignment\": \"neutral\",\n",
      "    \"classes\": [\"druid\", \"ranger\"],\n",
      "\"classes\": [\"druid\", \"ranger\"],\n",
      "    \"subclasses\": [\"Circle of the Moon\", \"Beast Master\"],\n",
      "\"subclasses\": [\"Circle of the Moon\", \"Beast Master\"],\n",
      "    \"weapon\": \"magical staff\",\n",
      "    \"armor\": \"leather\",\n",
      "\"weapon\": \"magical staff\",\n",
      "    \"armor\": \"leather\",\n",
      "    \"special_traits\": [\"elemental magic\", \"spellcasting\"]\n",
      "}\n"
     ]
    }
   ],
   "source": [
    "from langchain.text_splitter import RecursiveCharacterTextSplitter\n",
    "\n",
    "splitter = RecursiveCharacterTextSplitter(\n",
    "    chunk_size = 120,\n",
    "    chunk_overlap  = 60,\n",
    "    length_function = len,\n",
    "    is_separator_regex = False,\n",
    ")\n",
    "\n",
    "chunks = splitter.split_text(TEXT_EXAMPLE)\n",
    "\n",
    "for chunk in chunks:\n",
    "    print(chunk)"
   ]
  },
  {
   "cell_type": "code",
   "execution_count": 15,
   "id": "bb572657-462b-4396-a776-bc3a90470745",
   "metadata": {},
   "outputs": [
    {
     "name": "stdout",
     "output_type": "stream",
     "text": [
      "load INSTRUCTOR_Transformer\n",
      "max_seq_length  512\n",
      "[[-0.03273121 -0.01522742 -0.00566969 ... -0.05050063  0.0251598\n",
      "   0.07435343]\n",
      " [-0.04339547  0.01469226 -0.02433824 ... -0.04202354  0.00935418\n",
      "   0.06042922]\n",
      " [-0.01807351  0.01040025 -0.02679863 ... -0.03568515  0.02534615\n",
      "   0.0633125 ]\n",
      " ...\n",
      " [-0.02648884  0.00940422 -0.0074097  ... -0.01241925  0.01993552\n",
      "   0.07184611]\n",
      " [-0.02682754  0.02240329 -0.01796794 ... -0.00393317  0.01558664\n",
      "   0.06992257]\n",
      " [-0.04552475  0.00893589 -0.01553283 ... -0.01570786  0.01304699\n",
      "   0.08616974]]\n"
     ]
    }
   ],
   "source": [
    "from InstructorEmbedding import INSTRUCTOR\n",
    "model = INSTRUCTOR('hkunlp/instructor-large')\n",
    "instruction = \"Represents a description of a Pathfinder character:\"\n",
    "pairs = [[instruction, chunk] for chunk in chunks]\n",
    "embeddings = model.encode(pairs)\n",
    "print(embeddings)"
   ]
  },
  {
   "cell_type": "code",
   "execution_count": null,
   "id": "dc70e43d-8c35-4999-9f42-88af1af08541",
   "metadata": {},
   "outputs": [],
   "source": []
  }
 ],
 "metadata": {
  "kernelspec": {
   "display_name": "Python 3 (ipykernel)",
   "language": "python",
   "name": "python3"
  },
  "language_info": {
   "codemirror_mode": {
    "name": "ipython",
    "version": 3
   },
   "file_extension": ".py",
   "mimetype": "text/x-python",
   "name": "python",
   "nbconvert_exporter": "python",
   "pygments_lexer": "ipython3",
   "version": "3.11.7"
  }
 },
 "nbformat": 4,
 "nbformat_minor": 5
}
